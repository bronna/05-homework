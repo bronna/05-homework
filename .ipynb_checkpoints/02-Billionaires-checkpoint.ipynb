{
 "cells": [
  {
   "cell_type": "markdown",
   "metadata": {},
   "source": [
    "# Homework 5, Part 2: Answer questions with pandas\n",
    "\n",
    "**Use the Excel file to answer the following questions.** This is a little more typical of what your data exploration will look like with pandas."
   ]
  },
  {
   "cell_type": "markdown",
   "metadata": {},
   "source": [
    "## 0) Setup\n",
    "\n",
    "Import pandas **with the correct name** ."
   ]
  },
  {
   "cell_type": "code",
   "execution_count": 3,
   "metadata": {},
   "outputs": [],
   "source": [
    "import pandas as pd"
   ]
  },
  {
   "cell_type": "markdown",
   "metadata": {},
   "source": [
    "## 1) Reading in an Excel file\n",
    "\n",
    "Use pandas to read in the `richpeople.xlsx` Excel file, saving it as a variable with the name we'll always use for a dataframe.\n",
    "\n",
    "> **TIP:** You will use `read_excel` instead of `read_csv`, *but you'll also need to install a new library*. You might need to restart your kernel afterward!"
   ]
  },
  {
   "cell_type": "code",
   "execution_count": 4,
   "metadata": {},
   "outputs": [
    {
     "data": {
      "text/html": [
       "<div>\n",
       "<style scoped>\n",
       "    .dataframe tbody tr th:only-of-type {\n",
       "        vertical-align: middle;\n",
       "    }\n",
       "\n",
       "    .dataframe tbody tr th {\n",
       "        vertical-align: top;\n",
       "    }\n",
       "\n",
       "    .dataframe thead th {\n",
       "        text-align: right;\n",
       "    }\n",
       "</style>\n",
       "<table border=\"1\" class=\"dataframe\">\n",
       "  <thead>\n",
       "    <tr style=\"text-align: right;\">\n",
       "      <th></th>\n",
       "      <th>year</th>\n",
       "      <th>name</th>\n",
       "      <th>rank</th>\n",
       "      <th>citizenship</th>\n",
       "      <th>countrycode</th>\n",
       "      <th>networthusbillion</th>\n",
       "      <th>selfmade</th>\n",
       "      <th>typeofwealth</th>\n",
       "      <th>gender</th>\n",
       "      <th>age</th>\n",
       "      <th>...</th>\n",
       "      <th>relationshiptocompany</th>\n",
       "      <th>foundingdate</th>\n",
       "      <th>gdpcurrentus</th>\n",
       "      <th>sourceofwealth</th>\n",
       "      <th>notes</th>\n",
       "      <th>notes2</th>\n",
       "      <th>source</th>\n",
       "      <th>source_2</th>\n",
       "      <th>source_3</th>\n",
       "      <th>source_4</th>\n",
       "    </tr>\n",
       "  </thead>\n",
       "  <tbody>\n",
       "    <tr>\n",
       "      <th>0</th>\n",
       "      <td>2014</td>\n",
       "      <td>A. Jerrold Perenchio</td>\n",
       "      <td>663</td>\n",
       "      <td>United States</td>\n",
       "      <td>USA</td>\n",
       "      <td>2.6</td>\n",
       "      <td>self-made</td>\n",
       "      <td>executive</td>\n",
       "      <td>male</td>\n",
       "      <td>83.0</td>\n",
       "      <td>...</td>\n",
       "      <td>former chairman and CEO</td>\n",
       "      <td>1955.0</td>\n",
       "      <td>NaN</td>\n",
       "      <td>television, Univision</td>\n",
       "      <td>represented Marlon Brando and Elizabeth Taylor</td>\n",
       "      <td>NaN</td>\n",
       "      <td>http://en.wikipedia.org/wiki/Jerry_Perenchio</td>\n",
       "      <td>http://www.forbes.com/profile/a-jerrold-perenc...</td>\n",
       "      <td>COLUMN ONE; A Hollywood Player Who Owns the Ga...</td>\n",
       "      <td>NaN</td>\n",
       "    </tr>\n",
       "    <tr>\n",
       "      <th>1</th>\n",
       "      <td>2014</td>\n",
       "      <td>Abdulla Al Futtaim</td>\n",
       "      <td>687</td>\n",
       "      <td>United Arab Emirates</td>\n",
       "      <td>ARE</td>\n",
       "      <td>2.5</td>\n",
       "      <td>inherited</td>\n",
       "      <td>inherited</td>\n",
       "      <td>male</td>\n",
       "      <td>NaN</td>\n",
       "      <td>...</td>\n",
       "      <td>relation</td>\n",
       "      <td>1930.0</td>\n",
       "      <td>NaN</td>\n",
       "      <td>auto dealers, investments</td>\n",
       "      <td>company split between him and cousin in 2000</td>\n",
       "      <td>NaN</td>\n",
       "      <td>http://en.wikipedia.org/wiki/Al-Futtaim_Group</td>\n",
       "      <td>http://www.al-futtaim.ae/content/groupProfile.asp</td>\n",
       "      <td>NaN</td>\n",
       "      <td>NaN</td>\n",
       "    </tr>\n",
       "    <tr>\n",
       "      <th>2</th>\n",
       "      <td>2014</td>\n",
       "      <td>Abdulla bin Ahmad Al Ghurair</td>\n",
       "      <td>305</td>\n",
       "      <td>United Arab Emirates</td>\n",
       "      <td>ARE</td>\n",
       "      <td>4.8</td>\n",
       "      <td>inherited</td>\n",
       "      <td>inherited</td>\n",
       "      <td>male</td>\n",
       "      <td>NaN</td>\n",
       "      <td>...</td>\n",
       "      <td>relation</td>\n",
       "      <td>1960.0</td>\n",
       "      <td>NaN</td>\n",
       "      <td>diversified</td>\n",
       "      <td>inherited from father</td>\n",
       "      <td>NaN</td>\n",
       "      <td>http://en.wikipedia.org/wiki/Al-Ghurair_Group</td>\n",
       "      <td>http://www.alghurair.com/about-us/our-history</td>\n",
       "      <td>NaN</td>\n",
       "      <td>NaN</td>\n",
       "    </tr>\n",
       "    <tr>\n",
       "      <th>3</th>\n",
       "      <td>2014</td>\n",
       "      <td>Abdullah Al Rajhi</td>\n",
       "      <td>731</td>\n",
       "      <td>Saudi Arabia</td>\n",
       "      <td>SAU</td>\n",
       "      <td>2.4</td>\n",
       "      <td>self-made</td>\n",
       "      <td>self-made finance</td>\n",
       "      <td>male</td>\n",
       "      <td>NaN</td>\n",
       "      <td>...</td>\n",
       "      <td>founder</td>\n",
       "      <td>1957.0</td>\n",
       "      <td>NaN</td>\n",
       "      <td>banking</td>\n",
       "      <td>NaN</td>\n",
       "      <td>NaN</td>\n",
       "      <td>http://en.wikipedia.org/wiki/Al-Rajhi_Bank</td>\n",
       "      <td>http://www.alrajhibank.com.sa/ar/investor-rela...</td>\n",
       "      <td>http://www.alrajhibank.com.sa/ar/about-us/page...</td>\n",
       "      <td>NaN</td>\n",
       "    </tr>\n",
       "    <tr>\n",
       "      <th>4</th>\n",
       "      <td>2014</td>\n",
       "      <td>Abdulsamad Rabiu</td>\n",
       "      <td>1372</td>\n",
       "      <td>Nigeria</td>\n",
       "      <td>NGA</td>\n",
       "      <td>1.2</td>\n",
       "      <td>self-made</td>\n",
       "      <td>founder non-finance</td>\n",
       "      <td>male</td>\n",
       "      <td>54.0</td>\n",
       "      <td>...</td>\n",
       "      <td>founder</td>\n",
       "      <td>1988.0</td>\n",
       "      <td>NaN</td>\n",
       "      <td>sugar, flour, cement</td>\n",
       "      <td>NaN</td>\n",
       "      <td>NaN</td>\n",
       "      <td>http://www.forbes.com/profile/abdulsamad-rabiu/</td>\n",
       "      <td>http://www.bloomberg.com/research/stocks/priva...</td>\n",
       "      <td>NaN</td>\n",
       "      <td>NaN</td>\n",
       "    </tr>\n",
       "  </tbody>\n",
       "</table>\n",
       "<p>5 rows × 30 columns</p>\n",
       "</div>"
      ],
      "text/plain": [
       "   year                          name  rank           citizenship countrycode  \\\n",
       "0  2014          A. Jerrold Perenchio   663         United States         USA   \n",
       "1  2014            Abdulla Al Futtaim   687  United Arab Emirates         ARE   \n",
       "2  2014  Abdulla bin Ahmad Al Ghurair   305  United Arab Emirates         ARE   \n",
       "3  2014             Abdullah Al Rajhi   731          Saudi Arabia         SAU   \n",
       "4  2014              Abdulsamad Rabiu  1372               Nigeria         NGA   \n",
       "\n",
       "   networthusbillion   selfmade         typeofwealth gender   age  ...  \\\n",
       "0                2.6  self-made            executive   male  83.0  ...   \n",
       "1                2.5  inherited            inherited   male   NaN  ...   \n",
       "2                4.8  inherited            inherited   male   NaN  ...   \n",
       "3                2.4  self-made    self-made finance   male   NaN  ...   \n",
       "4                1.2  self-made  founder non-finance   male  54.0  ...   \n",
       "\n",
       "     relationshiptocompany foundingdate gdpcurrentus  \\\n",
       "0  former chairman and CEO       1955.0          NaN   \n",
       "1                 relation       1930.0          NaN   \n",
       "2                 relation       1960.0          NaN   \n",
       "3                  founder       1957.0          NaN   \n",
       "4                  founder       1988.0          NaN   \n",
       "\n",
       "              sourceofwealth                                           notes  \\\n",
       "0      television, Univision  represented Marlon Brando and Elizabeth Taylor   \n",
       "1  auto dealers, investments    company split between him and cousin in 2000   \n",
       "2                diversified                           inherited from father   \n",
       "3                    banking                                             NaN   \n",
       "4       sugar, flour, cement                                             NaN   \n",
       "\n",
       "   notes2                                           source  \\\n",
       "0     NaN     http://en.wikipedia.org/wiki/Jerry_Perenchio   \n",
       "1     NaN    http://en.wikipedia.org/wiki/Al-Futtaim_Group   \n",
       "2     NaN    http://en.wikipedia.org/wiki/Al-Ghurair_Group   \n",
       "3     NaN       http://en.wikipedia.org/wiki/Al-Rajhi_Bank   \n",
       "4     NaN  http://www.forbes.com/profile/abdulsamad-rabiu/   \n",
       "\n",
       "                                            source_2  \\\n",
       "0  http://www.forbes.com/profile/a-jerrold-perenc...   \n",
       "1  http://www.al-futtaim.ae/content/groupProfile.asp   \n",
       "2      http://www.alghurair.com/about-us/our-history   \n",
       "3  http://www.alrajhibank.com.sa/ar/investor-rela...   \n",
       "4  http://www.bloomberg.com/research/stocks/priva...   \n",
       "\n",
       "                                            source_3 source_4  \n",
       "0  COLUMN ONE; A Hollywood Player Who Owns the Ga...      NaN  \n",
       "1                                                NaN      NaN  \n",
       "2                                                NaN      NaN  \n",
       "3  http://www.alrajhibank.com.sa/ar/about-us/page...      NaN  \n",
       "4                                                NaN      NaN  \n",
       "\n",
       "[5 rows x 30 columns]"
      ]
     },
     "execution_count": 4,
     "metadata": {},
     "output_type": "execute_result"
    }
   ],
   "source": [
    "df = pd.read_excel(\"richpeople.xlsx\")\n",
    "df.head()"
   ]
  },
  {
   "cell_type": "markdown",
   "metadata": {},
   "source": [
    "## 2) Checking your data\n",
    "\n",
    "Display the number of rows and columns in your data. Also display the names and data types of each column."
   ]
  },
  {
   "cell_type": "code",
   "execution_count": 5,
   "metadata": {},
   "outputs": [
    {
     "data": {
      "text/plain": [
       "1653"
      ]
     },
     "execution_count": 5,
     "metadata": {},
     "output_type": "execute_result"
    }
   ],
   "source": [
    "number_of_rows = len(df.index)\n",
    "number_of_rows"
   ]
  },
  {
   "cell_type": "code",
   "execution_count": 6,
   "metadata": {},
   "outputs": [
    {
     "data": {
      "text/plain": [
       "30"
      ]
     },
     "execution_count": 6,
     "metadata": {},
     "output_type": "execute_result"
    }
   ],
   "source": [
    "number_of_columns = len(df.columns)\n",
    "number_of_columns"
   ]
  },
  {
   "cell_type": "code",
   "execution_count": 7,
   "metadata": {},
   "outputs": [
    {
     "data": {
      "text/plain": [
       "year                         int64\n",
       "name                        object\n",
       "rank                         int64\n",
       "citizenship                 object\n",
       "countrycode                 object\n",
       "networthusbillion          float64\n",
       "selfmade                    object\n",
       "typeofwealth                object\n",
       "gender                      object\n",
       "age                        float64\n",
       "industry                    object\n",
       "IndustryAggregates          object\n",
       "region                      object\n",
       "north                        int64\n",
       "politicalconnection        float64\n",
       "founder                      int64\n",
       "generationofinheritance     object\n",
       "sector                      object\n",
       "company                     object\n",
       "companytype                 object\n",
       "relationshiptocompany       object\n",
       "foundingdate               float64\n",
       "gdpcurrentus               float64\n",
       "sourceofwealth              object\n",
       "notes                       object\n",
       "notes2                      object\n",
       "source                      object\n",
       "source_2                    object\n",
       "source_3                    object\n",
       "source_4                    object\n",
       "dtype: object"
      ]
     },
     "execution_count": 7,
     "metadata": {},
     "output_type": "execute_result"
    }
   ],
   "source": [
    "df.dtypes"
   ]
  },
  {
   "cell_type": "markdown",
   "metadata": {},
   "source": [
    "## 3) Who are the top 10 richest billionaires? Use the `networthusbillion` column."
   ]
  },
  {
   "cell_type": "code",
   "execution_count": 8,
   "metadata": {},
   "outputs": [
    {
     "data": {
      "text/html": [
       "<div>\n",
       "<style scoped>\n",
       "    .dataframe tbody tr th:only-of-type {\n",
       "        vertical-align: middle;\n",
       "    }\n",
       "\n",
       "    .dataframe tbody tr th {\n",
       "        vertical-align: top;\n",
       "    }\n",
       "\n",
       "    .dataframe thead th {\n",
       "        text-align: right;\n",
       "    }\n",
       "</style>\n",
       "<table border=\"1\" class=\"dataframe\">\n",
       "  <thead>\n",
       "    <tr style=\"text-align: right;\">\n",
       "      <th></th>\n",
       "      <th>year</th>\n",
       "      <th>name</th>\n",
       "      <th>rank</th>\n",
       "      <th>citizenship</th>\n",
       "      <th>countrycode</th>\n",
       "      <th>networthusbillion</th>\n",
       "      <th>selfmade</th>\n",
       "      <th>typeofwealth</th>\n",
       "      <th>gender</th>\n",
       "      <th>age</th>\n",
       "      <th>...</th>\n",
       "      <th>relationshiptocompany</th>\n",
       "      <th>foundingdate</th>\n",
       "      <th>gdpcurrentus</th>\n",
       "      <th>sourceofwealth</th>\n",
       "      <th>notes</th>\n",
       "      <th>notes2</th>\n",
       "      <th>source</th>\n",
       "      <th>source_2</th>\n",
       "      <th>source_3</th>\n",
       "      <th>source_4</th>\n",
       "    </tr>\n",
       "  </thead>\n",
       "  <tbody>\n",
       "    <tr>\n",
       "      <th>184</th>\n",
       "      <td>2014</td>\n",
       "      <td>Bill Gates</td>\n",
       "      <td>1</td>\n",
       "      <td>United States</td>\n",
       "      <td>USA</td>\n",
       "      <td>76.0</td>\n",
       "      <td>self-made</td>\n",
       "      <td>founder non-finance</td>\n",
       "      <td>male</td>\n",
       "      <td>58.0</td>\n",
       "      <td>...</td>\n",
       "      <td>founder</td>\n",
       "      <td>1975.0</td>\n",
       "      <td>NaN</td>\n",
       "      <td>Microsoft</td>\n",
       "      <td>NaN</td>\n",
       "      <td>NaN</td>\n",
       "      <td>http://www.forbes.com/profile/bill-gates/</td>\n",
       "      <td>NaN</td>\n",
       "      <td>NaN</td>\n",
       "      <td>NaN</td>\n",
       "    </tr>\n",
       "    <tr>\n",
       "      <th>226</th>\n",
       "      <td>2014</td>\n",
       "      <td>Carlos Slim Helu</td>\n",
       "      <td>2</td>\n",
       "      <td>Mexico</td>\n",
       "      <td>MEX</td>\n",
       "      <td>72.0</td>\n",
       "      <td>self-made</td>\n",
       "      <td>privatized and resources</td>\n",
       "      <td>male</td>\n",
       "      <td>74.0</td>\n",
       "      <td>...</td>\n",
       "      <td>founder</td>\n",
       "      <td>1990.0</td>\n",
       "      <td>NaN</td>\n",
       "      <td>telecom</td>\n",
       "      <td>NaN</td>\n",
       "      <td>NaN</td>\n",
       "      <td>http://www.ozy.com/provocateurs/carlos-slims-w...</td>\n",
       "      <td>NaN</td>\n",
       "      <td>NaN</td>\n",
       "      <td>NaN</td>\n",
       "    </tr>\n",
       "    <tr>\n",
       "      <th>79</th>\n",
       "      <td>2014</td>\n",
       "      <td>Amancio Ortega</td>\n",
       "      <td>3</td>\n",
       "      <td>Spain</td>\n",
       "      <td>ESP</td>\n",
       "      <td>64.0</td>\n",
       "      <td>self-made</td>\n",
       "      <td>founder non-finance</td>\n",
       "      <td>male</td>\n",
       "      <td>77.0</td>\n",
       "      <td>...</td>\n",
       "      <td>founder</td>\n",
       "      <td>1975.0</td>\n",
       "      <td>NaN</td>\n",
       "      <td>retail</td>\n",
       "      <td>NaN</td>\n",
       "      <td>NaN</td>\n",
       "      <td>http://www.forbes.com/profile/amancio-ortega/</td>\n",
       "      <td>NaN</td>\n",
       "      <td>NaN</td>\n",
       "      <td>NaN</td>\n",
       "    </tr>\n",
       "    <tr>\n",
       "      <th>1562</th>\n",
       "      <td>2014</td>\n",
       "      <td>Warren Buffett</td>\n",
       "      <td>4</td>\n",
       "      <td>United States</td>\n",
       "      <td>USA</td>\n",
       "      <td>58.2</td>\n",
       "      <td>self-made</td>\n",
       "      <td>founder non-finance</td>\n",
       "      <td>male</td>\n",
       "      <td>83.0</td>\n",
       "      <td>...</td>\n",
       "      <td>founder</td>\n",
       "      <td>1839.0</td>\n",
       "      <td>NaN</td>\n",
       "      <td>Berkshire Hathaway</td>\n",
       "      <td>NaN</td>\n",
       "      <td>NaN</td>\n",
       "      <td>http://www.forbes.com/lists/2009/10/billionair...</td>\n",
       "      <td>http://www.forbes.com/companies/berkshire-hath...</td>\n",
       "      <td>NaN</td>\n",
       "      <td>NaN</td>\n",
       "    </tr>\n",
       "    <tr>\n",
       "      <th>862</th>\n",
       "      <td>2014</td>\n",
       "      <td>Larry Ellison</td>\n",
       "      <td>5</td>\n",
       "      <td>United States</td>\n",
       "      <td>USA</td>\n",
       "      <td>48.0</td>\n",
       "      <td>self-made</td>\n",
       "      <td>founder non-finance</td>\n",
       "      <td>male</td>\n",
       "      <td>69.0</td>\n",
       "      <td>...</td>\n",
       "      <td>founder</td>\n",
       "      <td>1977.0</td>\n",
       "      <td>NaN</td>\n",
       "      <td>Oracle</td>\n",
       "      <td>NaN</td>\n",
       "      <td>NaN</td>\n",
       "      <td>http://www.forbes.com/profile/larry-ellison/</td>\n",
       "      <td>http://www.businessinsider.com/how-larry-ellis...</td>\n",
       "      <td>NaN</td>\n",
       "      <td>NaN</td>\n",
       "    </tr>\n",
       "    <tr>\n",
       "      <th>339</th>\n",
       "      <td>2014</td>\n",
       "      <td>David Koch</td>\n",
       "      <td>6</td>\n",
       "      <td>United States</td>\n",
       "      <td>USA</td>\n",
       "      <td>40.0</td>\n",
       "      <td>inherited</td>\n",
       "      <td>inherited</td>\n",
       "      <td>male</td>\n",
       "      <td>73.0</td>\n",
       "      <td>...</td>\n",
       "      <td>relation</td>\n",
       "      <td>1940.0</td>\n",
       "      <td>NaN</td>\n",
       "      <td>diversified</td>\n",
       "      <td>inherited from father</td>\n",
       "      <td>NaN</td>\n",
       "      <td>http://www.kochind.com/About_Koch/History_Time...</td>\n",
       "      <td>NaN</td>\n",
       "      <td>NaN</td>\n",
       "      <td>NaN</td>\n",
       "    </tr>\n",
       "    <tr>\n",
       "      <th>247</th>\n",
       "      <td>2014</td>\n",
       "      <td>Charles Koch</td>\n",
       "      <td>6</td>\n",
       "      <td>United States</td>\n",
       "      <td>USA</td>\n",
       "      <td>40.0</td>\n",
       "      <td>inherited</td>\n",
       "      <td>inherited</td>\n",
       "      <td>male</td>\n",
       "      <td>78.0</td>\n",
       "      <td>...</td>\n",
       "      <td>relation</td>\n",
       "      <td>1940.0</td>\n",
       "      <td>NaN</td>\n",
       "      <td>diversified</td>\n",
       "      <td>inherited from father</td>\n",
       "      <td>NaN</td>\n",
       "      <td>http://www.kochind.com/About_Koch/History_Time...</td>\n",
       "      <td>NaN</td>\n",
       "      <td>NaN</td>\n",
       "      <td>NaN</td>\n",
       "    </tr>\n",
       "    <tr>\n",
       "      <th>1364</th>\n",
       "      <td>2014</td>\n",
       "      <td>Sheldon Adelson</td>\n",
       "      <td>8</td>\n",
       "      <td>United States</td>\n",
       "      <td>USA</td>\n",
       "      <td>38.0</td>\n",
       "      <td>self-made</td>\n",
       "      <td>self-made finance</td>\n",
       "      <td>male</td>\n",
       "      <td>80.0</td>\n",
       "      <td>...</td>\n",
       "      <td>founder</td>\n",
       "      <td>1952.0</td>\n",
       "      <td>NaN</td>\n",
       "      <td>casinos</td>\n",
       "      <td>NaN</td>\n",
       "      <td>NaN</td>\n",
       "      <td>http://www.forbes.com/profile/sheldon-adelson/</td>\n",
       "      <td>http://lasvegassun.com/news/1996/nov/26/rat-pa...</td>\n",
       "      <td>NaN</td>\n",
       "      <td>NaN</td>\n",
       "    </tr>\n",
       "    <tr>\n",
       "      <th>280</th>\n",
       "      <td>2014</td>\n",
       "      <td>Christy Walton</td>\n",
       "      <td>9</td>\n",
       "      <td>United States</td>\n",
       "      <td>USA</td>\n",
       "      <td>36.7</td>\n",
       "      <td>inherited</td>\n",
       "      <td>inherited</td>\n",
       "      <td>female</td>\n",
       "      <td>59.0</td>\n",
       "      <td>...</td>\n",
       "      <td>relation</td>\n",
       "      <td>1962.0</td>\n",
       "      <td>NaN</td>\n",
       "      <td>Wal-Mart</td>\n",
       "      <td>widow</td>\n",
       "      <td>NaN</td>\n",
       "      <td>http://www.forbes.com/profile/christy-walton/</td>\n",
       "      <td>NaN</td>\n",
       "      <td>NaN</td>\n",
       "      <td>NaN</td>\n",
       "    </tr>\n",
       "    <tr>\n",
       "      <th>724</th>\n",
       "      <td>2014</td>\n",
       "      <td>Jim Walton</td>\n",
       "      <td>10</td>\n",
       "      <td>United States</td>\n",
       "      <td>USA</td>\n",
       "      <td>34.7</td>\n",
       "      <td>inherited</td>\n",
       "      <td>inherited</td>\n",
       "      <td>male</td>\n",
       "      <td>66.0</td>\n",
       "      <td>...</td>\n",
       "      <td>relation</td>\n",
       "      <td>1962.0</td>\n",
       "      <td>NaN</td>\n",
       "      <td>Wal-Mart</td>\n",
       "      <td>inherited from father</td>\n",
       "      <td>NaN</td>\n",
       "      <td>http://www.forbes.com/profile/jim-walton/</td>\n",
       "      <td>NaN</td>\n",
       "      <td>NaN</td>\n",
       "      <td>NaN</td>\n",
       "    </tr>\n",
       "  </tbody>\n",
       "</table>\n",
       "<p>10 rows × 30 columns</p>\n",
       "</div>"
      ],
      "text/plain": [
       "      year              name  rank    citizenship countrycode  \\\n",
       "184   2014        Bill Gates     1  United States         USA   \n",
       "226   2014  Carlos Slim Helu     2         Mexico         MEX   \n",
       "79    2014    Amancio Ortega     3          Spain         ESP   \n",
       "1562  2014    Warren Buffett     4  United States         USA   \n",
       "862   2014     Larry Ellison     5  United States         USA   \n",
       "339   2014        David Koch     6  United States         USA   \n",
       "247   2014      Charles Koch     6  United States         USA   \n",
       "1364  2014   Sheldon Adelson     8  United States         USA   \n",
       "280   2014    Christy Walton     9  United States         USA   \n",
       "724   2014        Jim Walton    10  United States         USA   \n",
       "\n",
       "      networthusbillion   selfmade              typeofwealth  gender   age  \\\n",
       "184                76.0  self-made       founder non-finance    male  58.0   \n",
       "226                72.0  self-made  privatized and resources    male  74.0   \n",
       "79                 64.0  self-made       founder non-finance    male  77.0   \n",
       "1562               58.2  self-made       founder non-finance    male  83.0   \n",
       "862                48.0  self-made       founder non-finance    male  69.0   \n",
       "339                40.0  inherited                 inherited    male  73.0   \n",
       "247                40.0  inherited                 inherited    male  78.0   \n",
       "1364               38.0  self-made         self-made finance    male  80.0   \n",
       "280                36.7  inherited                 inherited  female  59.0   \n",
       "724                34.7  inherited                 inherited    male  66.0   \n",
       "\n",
       "      ... relationshiptocompany foundingdate gdpcurrentus      sourceofwealth  \\\n",
       "184   ...               founder       1975.0          NaN           Microsoft   \n",
       "226   ...               founder       1990.0          NaN             telecom   \n",
       "79    ...               founder       1975.0          NaN              retail   \n",
       "1562  ...               founder       1839.0          NaN  Berkshire Hathaway   \n",
       "862   ...               founder       1977.0          NaN              Oracle   \n",
       "339   ...              relation       1940.0          NaN         diversified   \n",
       "247   ...              relation       1940.0          NaN         diversified   \n",
       "1364  ...               founder       1952.0          NaN             casinos   \n",
       "280   ...              relation       1962.0          NaN            Wal-Mart   \n",
       "724   ...              relation       1962.0          NaN            Wal-Mart   \n",
       "\n",
       "                      notes  notes2  \\\n",
       "184                     NaN     NaN   \n",
       "226                     NaN     NaN   \n",
       "79                      NaN     NaN   \n",
       "1562                    NaN     NaN   \n",
       "862                     NaN     NaN   \n",
       "339   inherited from father     NaN   \n",
       "247   inherited from father     NaN   \n",
       "1364                    NaN     NaN   \n",
       "280                   widow     NaN   \n",
       "724   inherited from father     NaN   \n",
       "\n",
       "                                                 source  \\\n",
       "184           http://www.forbes.com/profile/bill-gates/   \n",
       "226   http://www.ozy.com/provocateurs/carlos-slims-w...   \n",
       "79        http://www.forbes.com/profile/amancio-ortega/   \n",
       "1562  http://www.forbes.com/lists/2009/10/billionair...   \n",
       "862        http://www.forbes.com/profile/larry-ellison/   \n",
       "339   http://www.kochind.com/About_Koch/History_Time...   \n",
       "247   http://www.kochind.com/About_Koch/History_Time...   \n",
       "1364     http://www.forbes.com/profile/sheldon-adelson/   \n",
       "280       http://www.forbes.com/profile/christy-walton/   \n",
       "724           http://www.forbes.com/profile/jim-walton/   \n",
       "\n",
       "                                               source_2 source_3 source_4  \n",
       "184                                                 NaN      NaN      NaN  \n",
       "226                                                 NaN      NaN      NaN  \n",
       "79                                                  NaN      NaN      NaN  \n",
       "1562  http://www.forbes.com/companies/berkshire-hath...      NaN      NaN  \n",
       "862   http://www.businessinsider.com/how-larry-ellis...      NaN      NaN  \n",
       "339                                                 NaN      NaN      NaN  \n",
       "247                                                 NaN      NaN      NaN  \n",
       "1364  http://lasvegassun.com/news/1996/nov/26/rat-pa...      NaN      NaN  \n",
       "280                                                 NaN      NaN      NaN  \n",
       "724                                                 NaN      NaN      NaN  \n",
       "\n",
       "[10 rows x 30 columns]"
      ]
     },
     "execution_count": 8,
     "metadata": {},
     "output_type": "execute_result"
    }
   ],
   "source": [
    "df.sort_values(by=\"networthusbillion\", ascending=False).head(10)"
   ]
  },
  {
   "cell_type": "markdown",
   "metadata": {},
   "source": [
    "## 4) How many male billionaires are there compared to the number of female billionares? What percent is that? Do they have a different average wealth?\n",
    "\n",
    "> **TIP:** The last part uses `groupby`, but the count/percent part does not.\n",
    "> **TIP:** When I say \"average,\" you can pick what kind of average you use."
   ]
  },
  {
   "cell_type": "code",
   "execution_count": 9,
   "metadata": {},
   "outputs": [
    {
     "data": {
      "text/plain": [
       "male      1473\n",
       "female     180\n",
       "Name: gender, dtype: int64"
      ]
     },
     "execution_count": 9,
     "metadata": {},
     "output_type": "execute_result"
    }
   ],
   "source": [
    "numbers = df.gender.value_counts()\n",
    "numbers"
   ]
  },
  {
   "cell_type": "code",
   "execution_count": 10,
   "metadata": {},
   "outputs": [
    {
     "data": {
      "text/plain": [
       "male      89.11\n",
       "female    10.89\n",
       "Name: gender, dtype: float64"
      ]
     },
     "execution_count": 10,
     "metadata": {},
     "output_type": "execute_result"
    }
   ],
   "source": [
    "percents = ((df.gender.value_counts(normalize=True))*100).round(2)\n",
    "percents"
   ]
  },
  {
   "cell_type": "code",
   "execution_count": 11,
   "metadata": {},
   "outputs": [
    {
     "data": {
      "text/plain": [
       "gender\n",
       "female    3.92\n",
       "male      3.90\n",
       "Name: networthusbillion, dtype: float64"
      ]
     },
     "execution_count": 11,
     "metadata": {},
     "output_type": "execute_result"
    }
   ],
   "source": [
    "averages = (df.groupby(by=\"gender\").networthusbillion.mean()).round(2)\n",
    "averages"
   ]
  },
  {
   "cell_type": "markdown",
   "metadata": {},
   "source": [
    "## 5) What is the most common source/type of wealth? Is it different between males and females?\n",
    "\n",
    "> **TIP:** You know how to `groupby` and you know how to count how many times a value is in a column. Can you put them together???\n",
    "> **TIP:** Use percentages for this, it makes it a lot more readable."
   ]
  },
  {
   "cell_type": "code",
   "execution_count": 134,
   "metadata": {},
   "outputs": [
    {
     "data": {
      "text/plain": [
       "inherited                   30.65\n",
       "founder non-finance         28.29\n",
       "self-made finance           20.84\n",
       "privatized and resources    11.63\n",
       "executive                    8.60\n",
       "Name: typeofwealth, dtype: float64"
      ]
     },
     "execution_count": 134,
     "metadata": {},
     "output_type": "execute_result"
    }
   ],
   "source": [
    "(df.typeofwealth.value_counts(normalize=True)*100).round(2)"
   ]
  },
  {
   "cell_type": "code",
   "execution_count": 132,
   "metadata": {},
   "outputs": [
    {
     "data": {
      "text/plain": [
       "real estate        6.54\n",
       "diversified        4.22\n",
       "retail             3.85\n",
       "investments        3.67\n",
       "pharmaceuticals    2.57\n",
       "Name: sourceofwealth, dtype: float64"
      ]
     },
     "execution_count": 132,
     "metadata": {},
     "output_type": "execute_result"
    }
   ],
   "source": [
    "(df.sourceofwealth.value_counts(normalize=True)*100).round(2).head(5)"
   ]
  },
  {
   "cell_type": "code",
   "execution_count": 135,
   "metadata": {},
   "outputs": [
    {
     "data": {
      "text/plain": [
       "gender  typeofwealth            \n",
       "female  inherited                   78.89\n",
       "        founder non-finance         11.67\n",
       "        executive                    3.33\n",
       "        self-made finance            3.33\n",
       "        privatized and resources     2.78\n",
       "male    founder non-finance         30.32\n",
       "        inherited                   24.75\n",
       "        self-made finance           22.98\n",
       "        privatized and resources    12.71\n",
       "        executive                    9.25\n",
       "Name: typeofwealth, dtype: float64"
      ]
     },
     "execution_count": 135,
     "metadata": {},
     "output_type": "execute_result"
    }
   ],
   "source": [
    "(df.groupby(by=\"gender\").typeofwealth.value_counts(normalize=True)*100).round(2)"
   ]
  },
  {
   "cell_type": "markdown",
   "metadata": {},
   "source": [
    "## 6) What companies have the most billionaires? Graph the top 5 as a horizontal bar graph.\n",
    "\n",
    "> **TIP:** First find the answer to the question, then just try to throw `.plot()` on the end\n",
    ">\n",
    "> **TIP:** You can use `.head()` on *anything*, not just your basic `df`\n",
    ">\n",
    "> **TIP:** You might feel like you should use `groupby`, but don't! There's an easier way to count.\n",
    ">\n",
    "> **TIP:** Make the largest bar be at the top of the graph\n",
    ">\n",
    "> **TIP:** If your chart seems... weird, think about where in the process you're sorting vs using `head`"
   ]
  },
  {
   "cell_type": "code",
   "execution_count": 127,
   "metadata": {},
   "outputs": [
    {
     "data": {
      "text/plain": [
       "company\n",
       "Hyatt                  11\n",
       "Oetker-Gruppe           8\n",
       "S. C. Johnson & Son     7\n",
       "Alfa Group              6\n",
       "Walmart                 6\n",
       "Name: company, dtype: int64"
      ]
     },
     "execution_count": 127,
     "metadata": {},
     "output_type": "execute_result"
    }
   ],
   "source": [
    "df.groupby(by=\"company\").company.count().sort_values(ascending=False).head()"
   ]
  },
  {
   "cell_type": "code",
   "execution_count": 128,
   "metadata": {},
   "outputs": [
    {
     "data": {
      "text/plain": [
       "<AxesSubplot:ylabel='company'>"
      ]
     },
     "execution_count": 128,
     "metadata": {},
     "output_type": "execute_result"
    },
    {
     "data": {
      "image/png": "[encoded data removed]",
      "text/plain": [
       "<Figure size 432x288 with 1 Axes>"
      ]
     },
     "metadata": {
      "needs_background": "light"
     },
     "output_type": "display_data"
    }
   ],
   "source": [
    "df.groupby(by=\"company\").company.count().sort_values(ascending=False).head().plot(kind=\"barh\")"
   ]
  },
  {
   "cell_type": "code",
   "execution_count": 103,
   "metadata": {},
   "outputs": [
    {
     "data": {
      "text/plain": [
       "sourceofwealth\n",
       "diversified    373.9\n",
       "real estate    321.2\n",
       "retail         310.4\n",
       "investments    234.4\n",
       "media          153.1\n",
       "Name: networthusbillion, dtype: float64"
      ]
     },
     "execution_count": 103,
     "metadata": {},
     "output_type": "execute_result"
    }
   ],
   "source": [
    "df.groupby(by=\"sourceofwealth\").networthusbillion.sum().sort_values(ascending=False).head()"
   ]
  },
  {
   "cell_type": "code",
   "execution_count": 139,
   "metadata": {},
   "outputs": [
    {
     "data": {
      "text/html": [
       "<div>\n",
       "<style scoped>\n",
       "    .dataframe tbody tr th:only-of-type {\n",
       "        vertical-align: middle;\n",
       "    }\n",
       "\n",
       "    .dataframe tbody tr th {\n",
       "        vertical-align: top;\n",
       "    }\n",
       "\n",
       "    .dataframe thead th {\n",
       "        text-align: right;\n",
       "    }\n",
       "</style>\n",
       "<table border=\"1\" class=\"dataframe\">\n",
       "  <thead>\n",
       "    <tr style=\"text-align: right;\">\n",
       "      <th></th>\n",
       "      <th>year</th>\n",
       "      <th>name</th>\n",
       "      <th>rank</th>\n",
       "      <th>citizenship</th>\n",
       "      <th>countrycode</th>\n",
       "      <th>networthusbillion</th>\n",
       "      <th>selfmade</th>\n",
       "      <th>typeofwealth</th>\n",
       "      <th>gender</th>\n",
       "      <th>age</th>\n",
       "      <th>...</th>\n",
       "      <th>relationshiptocompany</th>\n",
       "      <th>foundingdate</th>\n",
       "      <th>gdpcurrentus</th>\n",
       "      <th>sourceofwealth</th>\n",
       "      <th>notes</th>\n",
       "      <th>notes2</th>\n",
       "      <th>source</th>\n",
       "      <th>source_2</th>\n",
       "      <th>source_3</th>\n",
       "      <th>source_4</th>\n",
       "    </tr>\n",
       "  </thead>\n",
       "  <tbody>\n",
       "    <tr>\n",
       "      <th>2</th>\n",
       "      <td>2014</td>\n",
       "      <td>Abdulla bin Ahmad Al Ghurair</td>\n",
       "      <td>305</td>\n",
       "      <td>United Arab Emirates</td>\n",
       "      <td>ARE</td>\n",
       "      <td>4.8</td>\n",
       "      <td>inherited</td>\n",
       "      <td>inherited</td>\n",
       "      <td>male</td>\n",
       "      <td>NaN</td>\n",
       "      <td>...</td>\n",
       "      <td>relation</td>\n",
       "      <td>1960.0</td>\n",
       "      <td>NaN</td>\n",
       "      <td>diversified</td>\n",
       "      <td>inherited from father</td>\n",
       "      <td>NaN</td>\n",
       "      <td>http://en.wikipedia.org/wiki/Al-Ghurair_Group</td>\n",
       "      <td>http://www.alghurair.com/about-us/our-history</td>\n",
       "      <td>NaN</td>\n",
       "      <td>NaN</td>\n",
       "    </tr>\n",
       "    <tr>\n",
       "      <th>11</th>\n",
       "      <td>2014</td>\n",
       "      <td>Ahmet Nazif Zorlu</td>\n",
       "      <td>1372</td>\n",
       "      <td>Turkey</td>\n",
       "      <td>TUR</td>\n",
       "      <td>1.2</td>\n",
       "      <td>self-made</td>\n",
       "      <td>self-made finance</td>\n",
       "      <td>male</td>\n",
       "      <td>69.0</td>\n",
       "      <td>...</td>\n",
       "      <td>founder</td>\n",
       "      <td>1953.0</td>\n",
       "      <td>NaN</td>\n",
       "      <td>diversified</td>\n",
       "      <td>NaN</td>\n",
       "      <td>NaN</td>\n",
       "      <td>http://www.forbes.com/profile/ahmet-nazif-zorlu/</td>\n",
       "      <td>http://www.zorlu.com/EN/ZORLU/zor_kurucumuz.asp</td>\n",
       "      <td>http://www.bloomberg.com/bw/stories/2003-07-06...</td>\n",
       "      <td>NaN</td>\n",
       "    </tr>\n",
       "    <tr>\n",
       "      <th>28</th>\n",
       "      <td>2014</td>\n",
       "      <td>Albert von Thurn und Taxis</td>\n",
       "      <td>1092</td>\n",
       "      <td>Germany</td>\n",
       "      <td>DEU</td>\n",
       "      <td>1.6</td>\n",
       "      <td>inherited</td>\n",
       "      <td>inherited</td>\n",
       "      <td>male</td>\n",
       "      <td>30.0</td>\n",
       "      <td>...</td>\n",
       "      <td>relation</td>\n",
       "      <td>1615.0</td>\n",
       "      <td>NaN</td>\n",
       "      <td>diversified</td>\n",
       "      <td>monopoly on postal service in germany, nationa...</td>\n",
       "      <td>two older sisters, did not inherit title becau...</td>\n",
       "      <td>http://en.wikipedia.org/wiki/Thurn_und_Taxis</td>\n",
       "      <td>http://en.wikipedia.org/wiki/Albert,_12th_Prin...</td>\n",
       "      <td>NaN</td>\n",
       "      <td>NaN</td>\n",
       "    </tr>\n",
       "    <tr>\n",
       "      <th>112</th>\n",
       "      <td>2014</td>\n",
       "      <td>Andrew Tan</td>\n",
       "      <td>319</td>\n",
       "      <td>Philippines</td>\n",
       "      <td>PHL</td>\n",
       "      <td>4.7</td>\n",
       "      <td>self-made</td>\n",
       "      <td>self-made finance</td>\n",
       "      <td>male</td>\n",
       "      <td>61.0</td>\n",
       "      <td>...</td>\n",
       "      <td>Chairman and Chief Executive Officer</td>\n",
       "      <td>1993.0</td>\n",
       "      <td>NaN</td>\n",
       "      <td>diversified</td>\n",
       "      <td>appointed Chairman in 2006</td>\n",
       "      <td>NaN</td>\n",
       "      <td>http://www.allianceglobalinc.com/AboutUs.aspx</td>\n",
       "      <td>http://asianjournal.com/consumer/the-rise-of-d...</td>\n",
       "      <td>NaN</td>\n",
       "      <td>NaN</td>\n",
       "    </tr>\n",
       "    <tr>\n",
       "      <th>118</th>\n",
       "      <td>2014</td>\n",
       "      <td>Anil Ambani</td>\n",
       "      <td>281</td>\n",
       "      <td>India</td>\n",
       "      <td>IND</td>\n",
       "      <td>5.0</td>\n",
       "      <td>inherited</td>\n",
       "      <td>inherited</td>\n",
       "      <td>male</td>\n",
       "      <td>54.0</td>\n",
       "      <td>...</td>\n",
       "      <td>relation</td>\n",
       "      <td>1980.0</td>\n",
       "      <td>NaN</td>\n",
       "      <td>diversified</td>\n",
       "      <td>(Got a license), joined father's firm one year...</td>\n",
       "      <td>NaN</td>\n",
       "      <td>http://en.wikipedia.org/wiki/Anil_Ambani</td>\n",
       "      <td>http://www.nytimes.com/2008/06/15/business/wor...</td>\n",
       "      <td>https://en.wikipedia.org/wiki/Dhirubhai_Ambani</td>\n",
       "      <td>NaN</td>\n",
       "    </tr>\n",
       "  </tbody>\n",
       "</table>\n",
       "<p>5 rows × 30 columns</p>\n",
       "</div>"
      ],
      "text/plain": [
       "     year                          name  rank           citizenship  \\\n",
       "2    2014  Abdulla bin Ahmad Al Ghurair   305  United Arab Emirates   \n",
       "11   2014             Ahmet Nazif Zorlu  1372                Turkey   \n",
       "28   2014    Albert von Thurn und Taxis  1092               Germany   \n",
       "112  2014                    Andrew Tan   319           Philippines   \n",
       "118  2014                   Anil Ambani   281                 India   \n",
       "\n",
       "    countrycode  networthusbillion   selfmade       typeofwealth gender   age  \\\n",
       "2           ARE                4.8  inherited          inherited   male   NaN   \n",
       "11          TUR                1.2  self-made  self-made finance   male  69.0   \n",
       "28          DEU                1.6  inherited          inherited   male  30.0   \n",
       "112         PHL                4.7  self-made  self-made finance   male  61.0   \n",
       "118         IND                5.0  inherited          inherited   male  54.0   \n",
       "\n",
       "     ...                 relationshiptocompany foundingdate gdpcurrentus  \\\n",
       "2    ...                              relation       1960.0          NaN   \n",
       "11   ...                               founder       1953.0          NaN   \n",
       "28   ...                              relation       1615.0          NaN   \n",
       "112  ...  Chairman and Chief Executive Officer       1993.0          NaN   \n",
       "118  ...                              relation       1980.0          NaN   \n",
       "\n",
       "     sourceofwealth                                              notes  \\\n",
       "2       diversified                              inherited from father   \n",
       "11      diversified                                                NaN   \n",
       "28      diversified  monopoly on postal service in germany, nationa...   \n",
       "112     diversified                         appointed Chairman in 2006   \n",
       "118     diversified  (Got a license), joined father's firm one year...   \n",
       "\n",
       "                                                notes2  \\\n",
       "2                                                  NaN   \n",
       "11                                                 NaN   \n",
       "28   two older sisters, did not inherit title becau...   \n",
       "112                                                NaN   \n",
       "118                                                NaN   \n",
       "\n",
       "                                               source  \\\n",
       "2       http://en.wikipedia.org/wiki/Al-Ghurair_Group   \n",
       "11   http://www.forbes.com/profile/ahmet-nazif-zorlu/   \n",
       "28       http://en.wikipedia.org/wiki/Thurn_und_Taxis   \n",
       "112     http://www.allianceglobalinc.com/AboutUs.aspx   \n",
       "118          http://en.wikipedia.org/wiki/Anil_Ambani   \n",
       "\n",
       "                                              source_2  \\\n",
       "2        http://www.alghurair.com/about-us/our-history   \n",
       "11     http://www.zorlu.com/EN/ZORLU/zor_kurucumuz.asp   \n",
       "28   http://en.wikipedia.org/wiki/Albert,_12th_Prin...   \n",
       "112  http://asianjournal.com/consumer/the-rise-of-d...   \n",
       "118  http://www.nytimes.com/2008/06/15/business/wor...   \n",
       "\n",
       "                                              source_3 source_4  \n",
       "2                                                  NaN      NaN  \n",
       "11   http://www.bloomberg.com/bw/stories/2003-07-06...      NaN  \n",
       "28                                                 NaN      NaN  \n",
       "112                                                NaN      NaN  \n",
       "118     https://en.wikipedia.org/wiki/Dhirubhai_Ambani      NaN  \n",
       "\n",
       "[5 rows x 30 columns]"
      ]
     },
     "execution_count": 139,
     "metadata": {},
     "output_type": "execute_result"
    }
   ],
   "source": [
    "df[df.sourceofwealth==\"diversified\"].head(5)"
   ]
  },
  {
   "cell_type": "markdown",
   "metadata": {},
   "source": [
    "## 7) How much money do these billionaires have in total?"
   ]
  },
  {
   "cell_type": "code",
   "execution_count": 144,
   "metadata": {},
   "outputs": [
    {
     "name": "stdout",
     "output_type": "stream",
     "text": [
      "All of the billionaires have a total worth of $6454.4 Billion\n"
     ]
    }
   ],
   "source": [
    "total_worth = df.networthusbillion.sum()\n",
    "print(f'All of the billionaires have a total worth of ${total_worth:.1f} Billion')"
   ]
  },
  {
   "cell_type": "markdown",
   "metadata": {},
   "source": [
    "## 8) What are the top 10 countries with the most money held by billionaires?\n",
    "\n",
    "I am **not** asking which country has the most billionaires - this is **total amount of money per country.**\n",
    "\n",
    "> **TIP:** Think about it in steps - \"I want them organized by country,\" \"I want their net worth,\" \"I want to add it all up,\" and \"I want 10 of them.\" Just chain it all together."
   ]
  },
  {
   "cell_type": "code",
   "execution_count": 86,
   "metadata": {},
   "outputs": [
    {
     "data": {
      "text/plain": [
       "citizenship\n",
       "United States     2322.4\n",
       "Russia             422.5\n",
       "Germany            401.4\n",
       "China              375.8\n",
       "France             235.3\n",
       "Hong Kong          213.7\n",
       "Brazil             192.2\n",
       "India              191.9\n",
       "Italy              158.1\n",
       "United Kingdom     152.0\n",
       "Name: networthusbillion, dtype: float64"
      ]
     },
     "execution_count": 86,
     "metadata": {},
     "output_type": "execute_result"
    }
   ],
   "source": [
    "df.groupby(by=\"citizenship\").networthusbillion.sum().sort_values(ascending=False).head(10)"
   ]
  },
  {
   "cell_type": "markdown",
   "metadata": {},
   "source": [
    "## 9) How old is an average billionaire? How old are self-made billionaires  vs. non self-made billionaires? "
   ]
  },
  {
   "cell_type": "code",
   "execution_count": 146,
   "metadata": {},
   "outputs": [
    {
     "name": "stdout",
     "output_type": "stream",
     "text": [
      "The average age of a billionaire is 63.3\n"
     ]
    }
   ],
   "source": [
    "avg_age = df.age.mean()\n",
    "print(f'The average age of a billionaire is {avg_age:.1f}')"
   ]
  },
  {
   "cell_type": "code",
   "execution_count": 147,
   "metadata": {},
   "outputs": [
    {
     "name": "stdout",
     "output_type": "stream",
     "text": [
      "The average age of a self-made billionaire is 62.6\n"
     ]
    }
   ],
   "source": [
    "avg_age_selfmade = df[df.selfmade == \"self-made\"].age.mean()\n",
    "print(f'The average age of a self-made billionaire is {avg_age_selfmade:.1f}')"
   ]
  },
  {
   "cell_type": "code",
   "execution_count": 148,
   "metadata": {},
   "outputs": [
    {
     "name": "stdout",
     "output_type": "stream",
     "text": [
      "The average age of a non self-made billionaire is 65.0\n"
     ]
    }
   ],
   "source": [
    "avg_age_nonselfmade = df[df.selfmade == \"inherited\"].age.mean()\n",
    "print(f'The average age of a non self-made billionaire is {avg_age_nonselfmade:.1f}')"
   ]
  },
  {
   "cell_type": "markdown",
   "metadata": {},
   "source": [
    "## 10) Who are the youngest billionaires? Who are the oldest? Make a graph of the distribution of ages.\n",
    "\n",
    "> **TIP:** You use `.plot()` to graph values in a column independently, but `.hist()` to draw a [histogram](https://www.mathsisfun.com/data/histograms.html) of the distribution of their values"
   ]
  },
  {
   "cell_type": "code",
   "execution_count": 43,
   "metadata": {},
   "outputs": [
    {
     "data": {
      "text/html": [
       "<div>\n",
       "<style scoped>\n",
       "    .dataframe tbody tr th:only-of-type {\n",
       "        vertical-align: middle;\n",
       "    }\n",
       "\n",
       "    .dataframe tbody tr th {\n",
       "        vertical-align: top;\n",
       "    }\n",
       "\n",
       "    .dataframe thead th {\n",
       "        text-align: right;\n",
       "    }\n",
       "</style>\n",
       "<table border=\"1\" class=\"dataframe\">\n",
       "  <thead>\n",
       "    <tr style=\"text-align: right;\">\n",
       "      <th></th>\n",
       "      <th>year</th>\n",
       "      <th>name</th>\n",
       "      <th>rank</th>\n",
       "      <th>citizenship</th>\n",
       "      <th>countrycode</th>\n",
       "      <th>networthusbillion</th>\n",
       "      <th>selfmade</th>\n",
       "      <th>typeofwealth</th>\n",
       "      <th>gender</th>\n",
       "      <th>age</th>\n",
       "      <th>...</th>\n",
       "      <th>relationshiptocompany</th>\n",
       "      <th>foundingdate</th>\n",
       "      <th>gdpcurrentus</th>\n",
       "      <th>sourceofwealth</th>\n",
       "      <th>notes</th>\n",
       "      <th>notes2</th>\n",
       "      <th>source</th>\n",
       "      <th>source_2</th>\n",
       "      <th>source_3</th>\n",
       "      <th>source_4</th>\n",
       "    </tr>\n",
       "  </thead>\n",
       "  <tbody>\n",
       "    <tr>\n",
       "      <th>1172</th>\n",
       "      <td>2014</td>\n",
       "      <td>Perenna Kei</td>\n",
       "      <td>1284</td>\n",
       "      <td>Hong Kong</td>\n",
       "      <td>HKG</td>\n",
       "      <td>1.3</td>\n",
       "      <td>inherited</td>\n",
       "      <td>inherited</td>\n",
       "      <td>female</td>\n",
       "      <td>24.0</td>\n",
       "      <td>...</td>\n",
       "      <td>relation</td>\n",
       "      <td>1996.0</td>\n",
       "      <td>NaN</td>\n",
       "      <td>real estate</td>\n",
       "      <td>inherited from father</td>\n",
       "      <td>NaN</td>\n",
       "      <td>http://en.wikipedia.org/wiki/Perenna_Kei</td>\n",
       "      <td>http://www.loganestate.com/en/about.aspx?ftid=294</td>\n",
       "      <td>NaN</td>\n",
       "      <td>NaN</td>\n",
       "    </tr>\n",
       "    <tr>\n",
       "      <th>397</th>\n",
       "      <td>2014</td>\n",
       "      <td>Dustin Moskovitz</td>\n",
       "      <td>202</td>\n",
       "      <td>United States</td>\n",
       "      <td>USA</td>\n",
       "      <td>6.8</td>\n",
       "      <td>self-made</td>\n",
       "      <td>founder non-finance</td>\n",
       "      <td>male</td>\n",
       "      <td>29.0</td>\n",
       "      <td>...</td>\n",
       "      <td>founder</td>\n",
       "      <td>2004.0</td>\n",
       "      <td>NaN</td>\n",
       "      <td>Facebook</td>\n",
       "      <td>NaN</td>\n",
       "      <td>NaN</td>\n",
       "      <td>http://en.wikipedia.org/wiki/Dustin_Moskovitz</td>\n",
       "      <td>http://www.forbes.com/profile/dustin-moskovitz/</td>\n",
       "      <td>https://www.facebook.com/facebook/info?tab=pag...</td>\n",
       "      <td>NaN</td>\n",
       "    </tr>\n",
       "    <tr>\n",
       "      <th>1004</th>\n",
       "      <td>2014</td>\n",
       "      <td>Mark Zuckerberg</td>\n",
       "      <td>21</td>\n",
       "      <td>United States</td>\n",
       "      <td>USA</td>\n",
       "      <td>28.5</td>\n",
       "      <td>self-made</td>\n",
       "      <td>founder non-finance</td>\n",
       "      <td>male</td>\n",
       "      <td>29.0</td>\n",
       "      <td>...</td>\n",
       "      <td>founder</td>\n",
       "      <td>2004.0</td>\n",
       "      <td>NaN</td>\n",
       "      <td>Facebook</td>\n",
       "      <td>NaN</td>\n",
       "      <td>NaN</td>\n",
       "      <td>http://www.forbes.com/profile/mark-zuckerberg/</td>\n",
       "      <td>NaN</td>\n",
       "      <td>NaN</td>\n",
       "      <td>NaN</td>\n",
       "    </tr>\n",
       "  </tbody>\n",
       "</table>\n",
       "<p>3 rows × 30 columns</p>\n",
       "</div>"
      ],
      "text/plain": [
       "      year              name  rank    citizenship countrycode  \\\n",
       "1172  2014       Perenna Kei  1284      Hong Kong         HKG   \n",
       "397   2014  Dustin Moskovitz   202  United States         USA   \n",
       "1004  2014   Mark Zuckerberg    21  United States         USA   \n",
       "\n",
       "      networthusbillion   selfmade         typeofwealth  gender   age  ...  \\\n",
       "1172                1.3  inherited            inherited  female  24.0  ...   \n",
       "397                 6.8  self-made  founder non-finance    male  29.0  ...   \n",
       "1004               28.5  self-made  founder non-finance    male  29.0  ...   \n",
       "\n",
       "     relationshiptocompany foundingdate gdpcurrentus  sourceofwealth  \\\n",
       "1172              relation       1996.0          NaN     real estate   \n",
       "397                founder       2004.0          NaN        Facebook   \n",
       "1004               founder       2004.0          NaN        Facebook   \n",
       "\n",
       "                      notes  notes2  \\\n",
       "1172  inherited from father     NaN   \n",
       "397                     NaN     NaN   \n",
       "1004                    NaN     NaN   \n",
       "\n",
       "                                              source  \\\n",
       "1172        http://en.wikipedia.org/wiki/Perenna_Kei   \n",
       "397    http://en.wikipedia.org/wiki/Dustin_Moskovitz   \n",
       "1004  http://www.forbes.com/profile/mark-zuckerberg/   \n",
       "\n",
       "                                               source_2  \\\n",
       "1172  http://www.loganestate.com/en/about.aspx?ftid=294   \n",
       "397     http://www.forbes.com/profile/dustin-moskovitz/   \n",
       "1004                                                NaN   \n",
       "\n",
       "                                               source_3 source_4  \n",
       "1172                                                NaN      NaN  \n",
       "397   https://www.facebook.com/facebook/info?tab=pag...      NaN  \n",
       "1004                                                NaN      NaN  \n",
       "\n",
       "[3 rows x 30 columns]"
      ]
     },
     "execution_count": 43,
     "metadata": {},
     "output_type": "execute_result"
    }
   ],
   "source": [
    "df.sort_values(by=\"age\").head(3)"
   ]
  },
  {
   "cell_type": "code",
   "execution_count": 44,
   "metadata": {},
   "outputs": [
    {
     "data": {
      "text/html": [
       "<div>\n",
       "<style scoped>\n",
       "    .dataframe tbody tr th:only-of-type {\n",
       "        vertical-align: middle;\n",
       "    }\n",
       "\n",
       "    .dataframe tbody tr th {\n",
       "        vertical-align: top;\n",
       "    }\n",
       "\n",
       "    .dataframe thead th {\n",
       "        text-align: right;\n",
       "    }\n",
       "</style>\n",
       "<table border=\"1\" class=\"dataframe\">\n",
       "  <thead>\n",
       "    <tr style=\"text-align: right;\">\n",
       "      <th></th>\n",
       "      <th>year</th>\n",
       "      <th>name</th>\n",
       "      <th>rank</th>\n",
       "      <th>citizenship</th>\n",
       "      <th>countrycode</th>\n",
       "      <th>networthusbillion</th>\n",
       "      <th>selfmade</th>\n",
       "      <th>typeofwealth</th>\n",
       "      <th>gender</th>\n",
       "      <th>age</th>\n",
       "      <th>...</th>\n",
       "      <th>relationshiptocompany</th>\n",
       "      <th>foundingdate</th>\n",
       "      <th>gdpcurrentus</th>\n",
       "      <th>sourceofwealth</th>\n",
       "      <th>notes</th>\n",
       "      <th>notes2</th>\n",
       "      <th>source</th>\n",
       "      <th>source_2</th>\n",
       "      <th>source_3</th>\n",
       "      <th>source_4</th>\n",
       "    </tr>\n",
       "  </thead>\n",
       "  <tbody>\n",
       "    <tr>\n",
       "      <th>343</th>\n",
       "      <td>2014</td>\n",
       "      <td>David Rockefeller, Sr.</td>\n",
       "      <td>580</td>\n",
       "      <td>United States</td>\n",
       "      <td>USA</td>\n",
       "      <td>2.9</td>\n",
       "      <td>inherited</td>\n",
       "      <td>inherited</td>\n",
       "      <td>male</td>\n",
       "      <td>98.0</td>\n",
       "      <td>...</td>\n",
       "      <td>relation</td>\n",
       "      <td>1870.0</td>\n",
       "      <td>NaN</td>\n",
       "      <td>oil, banking</td>\n",
       "      <td>family made most of fortune in the late 19th a...</td>\n",
       "      <td>NaN</td>\n",
       "      <td>http://en.wikipedia.org/wiki/David_Rockefeller</td>\n",
       "      <td>http://en.wikipedia.org/wiki/Standard_Oil</td>\n",
       "      <td>http://en.wikipedia.org/wiki/Rockefeller_family</td>\n",
       "      <td>NaN</td>\n",
       "    </tr>\n",
       "    <tr>\n",
       "      <th>816</th>\n",
       "      <td>2014</td>\n",
       "      <td>Karl Wlaschek</td>\n",
       "      <td>305</td>\n",
       "      <td>Austria</td>\n",
       "      <td>AUT</td>\n",
       "      <td>4.8</td>\n",
       "      <td>self-made</td>\n",
       "      <td>founder non-finance</td>\n",
       "      <td>male</td>\n",
       "      <td>96.0</td>\n",
       "      <td>...</td>\n",
       "      <td>founder</td>\n",
       "      <td>1953.0</td>\n",
       "      <td>NaN</td>\n",
       "      <td>retail</td>\n",
       "      <td>NaN</td>\n",
       "      <td>NaN</td>\n",
       "      <td>http://en.wikipedia.org/wiki/BILLA</td>\n",
       "      <td>http://en.wikipedia.org/wiki/Karl_Wlaschek</td>\n",
       "      <td>https://www.billa.at/Footer_Nav_Seiten/Geschic...</td>\n",
       "      <td>NaN</td>\n",
       "    </tr>\n",
       "    <tr>\n",
       "      <th>836</th>\n",
       "      <td>2014</td>\n",
       "      <td>Kirk Kerkorian</td>\n",
       "      <td>328</td>\n",
       "      <td>United States</td>\n",
       "      <td>USA</td>\n",
       "      <td>4.5</td>\n",
       "      <td>self-made</td>\n",
       "      <td>self-made finance</td>\n",
       "      <td>male</td>\n",
       "      <td>96.0</td>\n",
       "      <td>...</td>\n",
       "      <td>investor</td>\n",
       "      <td>1924.0</td>\n",
       "      <td>NaN</td>\n",
       "      <td>casinos, investments</td>\n",
       "      <td>purchased in 1969</td>\n",
       "      <td>NaN</td>\n",
       "      <td>http://en.wikipedia.org/wiki/Kirk_Kerkorian</td>\n",
       "      <td>http://www.forbes.com/profile/kirk-kerkorian/</td>\n",
       "      <td>PROFILE: Las Vegas billionaire amassed his wea...</td>\n",
       "      <td>NaN</td>\n",
       "    </tr>\n",
       "  </tbody>\n",
       "</table>\n",
       "<p>3 rows × 30 columns</p>\n",
       "</div>"
      ],
      "text/plain": [
       "     year                    name  rank    citizenship countrycode  \\\n",
       "343  2014  David Rockefeller, Sr.   580  United States         USA   \n",
       "816  2014           Karl Wlaschek   305        Austria         AUT   \n",
       "836  2014          Kirk Kerkorian   328  United States         USA   \n",
       "\n",
       "     networthusbillion   selfmade         typeofwealth gender   age  ...  \\\n",
       "343                2.9  inherited            inherited   male  98.0  ...   \n",
       "816                4.8  self-made  founder non-finance   male  96.0  ...   \n",
       "836                4.5  self-made    self-made finance   male  96.0  ...   \n",
       "\n",
       "    relationshiptocompany foundingdate gdpcurrentus        sourceofwealth  \\\n",
       "343              relation       1870.0          NaN          oil, banking   \n",
       "816               founder       1953.0          NaN                retail   \n",
       "836              investor       1924.0          NaN  casinos, investments   \n",
       "\n",
       "                                                 notes  notes2  \\\n",
       "343  family made most of fortune in the late 19th a...     NaN   \n",
       "816                                                NaN     NaN   \n",
       "836                                  purchased in 1969     NaN   \n",
       "\n",
       "                                             source  \\\n",
       "343  http://en.wikipedia.org/wiki/David_Rockefeller   \n",
       "816              http://en.wikipedia.org/wiki/BILLA   \n",
       "836     http://en.wikipedia.org/wiki/Kirk_Kerkorian   \n",
       "\n",
       "                                          source_2  \\\n",
       "343      http://en.wikipedia.org/wiki/Standard_Oil   \n",
       "816     http://en.wikipedia.org/wiki/Karl_Wlaschek   \n",
       "836  http://www.forbes.com/profile/kirk-kerkorian/   \n",
       "\n",
       "                                              source_3 source_4  \n",
       "343    http://en.wikipedia.org/wiki/Rockefeller_family      NaN  \n",
       "816  https://www.billa.at/Footer_Nav_Seiten/Geschic...      NaN  \n",
       "836  PROFILE: Las Vegas billionaire amassed his wea...      NaN  \n",
       "\n",
       "[3 rows x 30 columns]"
      ]
     },
     "execution_count": 44,
     "metadata": {},
     "output_type": "execute_result"
    }
   ],
   "source": [
    "df.sort_values(by=\"age\", ascending=False).head(3)"
   ]
  },
  {
   "cell_type": "code",
   "execution_count": 46,
   "metadata": {},
   "outputs": [
    {
     "data": {
      "text/plain": [
       "<AxesSubplot:>"
      ]
     },
     "execution_count": 46,
     "metadata": {},
     "output_type": "execute_result"
    },
    {
     "data": {
      "image/png": "[encoded data removed]",
      "text/plain": [
       "<Figure size 432x288 with 1 Axes>"
      ]
     },
     "metadata": {
      "needs_background": "light"
     },
     "output_type": "display_data"
    }
   ],
   "source": [
    "df.sort_values(by=\"age\").age.hist()"
   ]
  },
  {
   "cell_type": "markdown",
   "metadata": {},
   "source": [
    "## 11) Make a scatterplot of net worth compared to age"
   ]
  },
  {
   "cell_type": "code",
   "execution_count": 57,
   "metadata": {},
   "outputs": [
    {
     "data": {
      "text/plain": [
       "<AxesSubplot:xlabel='age', ylabel='networthusbillion'>"
      ]
     },
     "execution_count": 57,
     "metadata": {},
     "output_type": "execute_result"
    },
    {
     "data": {
      "image/png": "[encoded data removed]",
      "text/plain": [
       "<Figure size 432x288 with 1 Axes>"
      ]
     },
     "metadata": {
      "needs_background": "light"
     },
     "output_type": "display_data"
    }
   ],
   "source": [
    "df.plot.scatter(x=\"age\", y=\"networthusbillion\")"
   ]
  },
  {
   "cell_type": "code",
   "execution_count": 72,
   "metadata": {},
   "outputs": [
    {
     "data": {
      "text/plain": [
       "<AxesSubplot:xlabel='age', ylabel='networthusbillion'>"
      ]
     },
     "execution_count": 72,
     "metadata": {},
     "output_type": "execute_result"
    },
    {
     "data": {
      "image/png": "[encoded data removed]",
      "text/plain": [
       "<Figure size 864x576 with 2 Axes>"
      ]
     },
     "metadata": {
      "needs_background": "light"
     },
     "output_type": "display_data"
    }
   ],
   "source": [
    "df.plot.hexbin(x=\"age\", y=\"networthusbillion\", gridsize=50, figsize=(12,8))"
   ]
  },
  {
   "cell_type": "markdown",
   "metadata": {},
   "source": [
    "## 13) Make a bar graph of the wealth of the top 10 richest billionaires\n",
    "\n",
    "> **TIP:** When you make your plot, you'll need to set the `x` and `y` or else your chart will look _crazy_\n",
    ">\n",
    "> **TIP:** x and y might be the opposite of what you expect them to be"
   ]
  },
  {
   "cell_type": "code",
   "execution_count": 80,
   "metadata": {},
   "outputs": [
    {
     "data": {
      "text/plain": [
       "<AxesSubplot:xlabel='name'>"
      ]
     },
     "execution_count": 80,
     "metadata": {},
     "output_type": "execute_result"
    },
    {
     "data": {
      "image/png": "[encoded data removed]",
      "text/plain": [
       "<Figure size 432x288 with 1 Axes>"
      ]
     },
     "metadata": {
      "needs_background": "light"
     },
     "output_type": "display_data"
    }
   ],
   "source": [
    "df.sort_values(by=\"networthusbillion\", ascending=False).head(10).plot(kind=\"bar\", x=\"name\", rot=45, y=\"networthusbillion\")"
   ]
  }
 ],
 "metadata": {
  "kernelspec": {
   "display_name": "Python 3",
   "language": "python",
   "name": "python3"
  },
  "language_info": {
   "codemirror_mode": {
    "name": "ipython",
    "version": 3
   },
   "file_extension": ".py",
   "mimetype": "text/x-python",
   "name": "python",
   "nbconvert_exporter": "python",
   "pygments_lexer": "ipython3",
   "version": "3.9.5"
  }
 },
 "nbformat": 4,
 "nbformat_minor": 2
}
